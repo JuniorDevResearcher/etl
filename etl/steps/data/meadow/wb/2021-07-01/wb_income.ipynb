{
 "cells": [
  {
   "cell_type": "markdown",
   "id": "74a8f219-8e5e-4508-b094-8f558983ea6b",
   "metadata": {},
   "source": [
    "# World Bank: Income Groups"
   ]
  },
  {
   "cell_type": "markdown",
   "id": "294420c2-0f58-49fa-aa6b-02f347b39386",
   "metadata": {},
   "source": [
    "## Parameters"
   ]
  },
  {
   "cell_type": "code",
   "execution_count": 1,
   "id": "1c28e11e-030a-4fb5-b0ae-015ae30f30a4",
   "metadata": {
    "tags": [
     "parameters"
    ]
   },
   "outputs": [],
   "source": [
    "dest_dir = \"/tmp/wb_income\""
   ]
  },
  {
   "cell_type": "markdown",
   "id": "fa16133a-c9d6-4fe6-8696-16a7a3f9a9ad",
   "metadata": {},
   "source": [
    "## Imports"
   ]
  },
  {
   "cell_type": "code",
   "execution_count": 2,
   "id": "63afb01d-51bb-42d1-9322-511e1b94d9c6",
   "metadata": {},
   "outputs": [],
   "source": [
    "import pandas as pd\n",
    "\n",
    "from owid.catalog import Dataset, Table\n",
    "from owid.walden import Catalog\n",
    "from etl.steps.data.converters import convert_walden_metadata"
   ]
  },
  {
   "cell_type": "markdown",
   "id": "8172c4cd-320d-4a35-b860-86af2c7e2d74",
   "metadata": {},
   "source": [
    "## Fetch walden dataset"
   ]
  },
  {
   "cell_type": "code",
   "execution_count": 3,
   "id": "4099b067-cea8-4d7b-8d2a-bf154cb093f3",
   "metadata": {},
   "outputs": [],
   "source": [
    "walden_ds = Catalog().find_one(\"wb\", \"2021-07-01\", \"wb_income\")"
   ]
  },
  {
   "cell_type": "code",
   "execution_count": 4,
   "id": "042f4746-3e50-4a4e-b5fa-24c629df406d",
   "metadata": {},
   "outputs": [
    {
     "data": {
      "text/plain": [
       "Dataset(namespace='wb', short_name='wb_income', name='World Bank list of economies - World Bank (July 2021)', description='This table classifies all World Bank member countries (189), and all other economies with populations of more than 30,000. For operational and analytical purposes, economies are divided among income groups according to 2020 gross national income (GNI) per capita, calculated using the World Bank Atlas method. The groups are: low income, $1,045 or less; lower middle income, $1,046  to $4,095; upper middle income, $4,096 to $12,695; and high income, $12,696 or more.The effective operational cutoff for IDA eligibility is $1,205 or less.\\n\\nGeographic classifications in this table cover all income levels.\\n\\nIDA countries are those that lack the financial ability to borrow from IBRD. IDA credits are deeply concessional—interest-free loans and grants for programs aimed at boosting economic growth and improving living conditions. IBRD loans are noncessional. Blend countries are eligible for IDA credits because of their low per capita incomes but are also eligible for IBRD because they are financially creditworthy.\\n\\nNote: The term country, used interchangeably with economy, does not imply political independence but refers to any territory for which authorities report separate social or economic statistics. Income classifications set on 1 July 2021 remain in effect until 1 July 2022. Venezuela has been temporarily unclassified in July 2021 pending release of revised national accounts statistics. Argentina, which was temporarily unclassified in July 2016 pending release of revised national accounts statistics, was classified as upper middle income for FY17 as of 29 September 2016 based on alternative conversion factors. Also effective 29 September 2016, Syrian Arab Republic is reclassified from IBRD lending category to IDA-only. On 29 March 2017, new country codes were introduced to align World Bank 3-letter codes with ISO 3-letter codes: Andorra (AND), Dem. Rep. Congo (COD), Isle of Man (IMN), Kosovo (XKX), Romania (ROU), Timor-Leste (TLS), and West Bank and Gaza (PSE).', source_name='World Bank', url='https://datahelpdesk.worldbank.org/knowledgebase/articles/906519-world-bank-country-and-lending-groups', date_accessed='2021-11-30', file_extension='xlsx', license_url='https://www.worldbank.org/en/about/legal/terms-of-use-for-datasets', source_data_url='http://databank.worldbank.org/data/download/site-content/CLASS.xlsx', md5='35839e39566c48fd7019b53b7c2b7d93', publication_year=2021, publication_date='2021-07-01', owid_data_url='https://walden.nyc3.digitaloceanspaces.com/wb/2021-07-01/wb_income.xlsx', license_name='CC BY 4.0', access_notes=None)"
      ]
     },
     "execution_count": 4,
     "metadata": {},
     "output_type": "execute_result"
    }
   ],
   "source": [
    "walden_ds"
   ]
  },
  {
   "cell_type": "markdown",
   "id": "1790affa-f1f5-47e1-b765-1eb7cb300b1d",
   "metadata": {},
   "source": [
    "## Make a dataset"
   ]
  },
  {
   "cell_type": "code",
   "execution_count": 5,
   "id": "2ecabeee-4ec8-4ab6-b7bf-069995637fc9",
   "metadata": {},
   "outputs": [],
   "source": [
    "ds = Dataset.create_empty(dest_dir)\n",
    "ds.metadata = convert_walden_metadata(walden_ds)\n",
    "ds.save()"
   ]
  },
  {
   "cell_type": "code",
   "execution_count": 6,
   "id": "8f48d337-fb0c-4e9a-b2b0-990f4afdfc01",
   "metadata": {},
   "outputs": [
    {
     "data": {
      "text/plain": [
       "Dataset(path='/tmp/wb_income', metadata=DatasetMeta(namespace='wb', short_name='wb_income', title='World Bank list of economies - World Bank (July 2021)', description='This table classifies all World Bank member countries (189), and all other economies with populations of more than 30,000. For operational and analytical purposes, economies are divided among income groups according to 2020 gross national income (GNI) per capita, calculated using the World Bank Atlas method. The groups are: low income, $1,045 or less; lower middle income, $1,046  to $4,095; upper middle income, $4,096 to $12,695; and high income, $12,696 or more.The effective operational cutoff for IDA eligibility is $1,205 or less.\\n\\nGeographic classifications in this table cover all income levels.\\n\\nIDA countries are those that lack the financial ability to borrow from IBRD. IDA credits are deeply concessional—interest-free loans and grants for programs aimed at boosting economic growth and improving living conditions. IBRD loans are noncessional. Blend countries are eligible for IDA credits because of their low per capita incomes but are also eligible for IBRD because they are financially creditworthy.\\n\\nNote: The term country, used interchangeably with economy, does not imply political independence but refers to any territory for which authorities report separate social or economic statistics. Income classifications set on 1 July 2021 remain in effect until 1 July 2022. Venezuela has been temporarily unclassified in July 2021 pending release of revised national accounts statistics. Argentina, which was temporarily unclassified in July 2016 pending release of revised national accounts statistics, was classified as upper middle income for FY17 as of 29 September 2016 based on alternative conversion factors. Also effective 29 September 2016, Syrian Arab Republic is reclassified from IBRD lending category to IDA-only. On 29 March 2017, new country codes were introduced to align World Bank 3-letter codes with ISO 3-letter codes: Andorra (AND), Dem. Rep. Congo (COD), Isle of Man (IMN), Kosovo (XKX), Romania (ROU), Timor-Leste (TLS), and West Bank and Gaza (PSE).', sources=[Source(name='World Bank', description=None, url='https://datahelpdesk.worldbank.org/knowledgebase/articles/906519-world-bank-country-and-lending-groups', source_data_url='http://databank.worldbank.org/data/download/site-content/CLASS.xlsx', owid_data_url='https://walden.nyc3.digitaloceanspaces.com/wb/2021-07-01/wb_income.xlsx', date_accessed='2021-11-30', publication_date='2021-07-01', publication_year=2021)], licenses=[License(name='CC BY 4.0', url='https://www.worldbank.org/en/about/legal/terms-of-use-for-datasets')], source_checksum=None))"
      ]
     },
     "execution_count": 6,
     "metadata": {},
     "output_type": "execute_result"
    }
   ],
   "source": [
    "ds"
   ]
  },
  {
   "cell_type": "markdown",
   "id": "43ee4975-4b4e-41cd-8104-b292049a689d",
   "metadata": {},
   "source": [
    "## Load dataset"
   ]
  },
  {
   "cell_type": "code",
   "execution_count": 7,
   "id": "79a4d113-b615-44ce-b923-d6e9a7563ea3",
   "metadata": {},
   "outputs": [],
   "source": [
    "df = pd.read_excel(walden_ds.local_path)"
   ]
  },
  {
   "cell_type": "markdown",
   "id": "06c78358-f831-488d-93fb-ea4803b4f160",
   "metadata": {
    "tags": []
   },
   "source": [
    "## Clean dataset"
   ]
  },
  {
   "cell_type": "markdown",
   "id": "9a7fa483-bdbf-47e3-8870-1bbe4a7b1856",
   "metadata": {},
   "source": [
    "### Sanity checks"
   ]
  },
  {
   "cell_type": "code",
   "execution_count": 8,
   "id": "5780a950-8227-49ff-bdcf-486429c5a6ab",
   "metadata": {},
   "outputs": [
    {
     "data": {
      "text/plain": [
       "Economy                True\n",
       "Code                   True\n",
       "Region                 True\n",
       "Income group           True\n",
       "Lending category       True\n",
       "Other (EMU or HIPC)    True\n",
       "dtype: bool"
      ]
     },
     "execution_count": 8,
     "metadata": {},
     "output_type": "execute_result"
    }
   ],
   "source": [
    "# Check nulls\n",
    "df.isnull().any()"
   ]
  },
  {
   "cell_type": "code",
   "execution_count": 9,
   "id": "3cf574e3-1ad8-4045-a657-e814cfd6929f",
   "metadata": {},
   "outputs": [],
   "source": [
    "assert df.Economy.value_counts().max() == 1"
   ]
  },
  {
   "cell_type": "markdown",
   "id": "97978ba9-3788-4a09-9c5d-2244ba774d18",
   "metadata": {},
   "source": [
    "### Drop columns and set Index"
   ]
  },
  {
   "cell_type": "code",
   "execution_count": 10,
   "id": "7dd3b07a-ce18-4e94-ad0c-7aea65ad7c05",
   "metadata": {},
   "outputs": [],
   "source": [
    "df.set_index(\n",
    "    [\"Economy\"],\n",
    "    inplace=True,\n",
    "    verify_integrity=True,\n",
    ")"
   ]
  },
  {
   "cell_type": "markdown",
   "id": "51df1792-f9d7-4d65-9042-ece87b0d171d",
   "metadata": {},
   "source": [
    "## Add tables"
   ]
  },
  {
   "cell_type": "code",
   "execution_count": 11,
   "id": "4faace2f-bbf2-46cf-85f1-4721d377d9db",
   "metadata": {},
   "outputs": [],
   "source": [
    "t = Table(df)\n",
    "t.metadata.short_name = \"bulk\"\n",
    "ds.add(t)"
   ]
  }
 ],
 "metadata": {
  "kernelspec": {
   "display_name": "Python 3 (ipykernel)",
   "language": "python",
   "name": "python3"
  },
  "language_info": {
   "codemirror_mode": {
    "name": "ipython",
    "version": 3
   },
   "file_extension": ".py",
   "mimetype": "text/x-python",
   "name": "python",
   "nbconvert_exporter": "python",
   "pygments_lexer": "ipython3",
   "version": "3.9.5"
  }
 },
 "nbformat": 4,
 "nbformat_minor": 5
}
