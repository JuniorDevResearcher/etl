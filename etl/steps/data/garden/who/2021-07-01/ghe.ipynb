{
 "cells": [
  {
   "cell_type": "markdown",
   "metadata": {},
   "source": [
    "# Parameters"
   ]
  },
  {
   "cell_type": "code",
   "execution_count": 1,
   "metadata": {
    "tags": [
     "parameters"
    ]
   },
   "outputs": [],
   "source": [
    "dest_dir = \"/tmp/ghe_20210701\""
   ]
  },
  {
   "cell_type": "markdown",
   "metadata": {},
   "source": [
    "# Read data and reference tables"
   ]
  },
  {
   "cell_type": "code",
   "execution_count": 2,
   "metadata": {},
   "outputs": [],
   "source": [
    "from owid import catalog\n",
    "import json\n",
    "from pathlib import Path"
   ]
  },
  {
   "cell_type": "code",
   "execution_count": 3,
   "metadata": {},
   "outputs": [],
   "source": [
    "from etl.paths import BASE_DIR as base_path"
   ]
  },
  {
   "cell_type": "code",
   "execution_count": 4,
   "metadata": {},
   "outputs": [],
   "source": [
    "reference_dataset = catalog.Dataset((base_path / \"data/reference\").as_posix())"
   ]
  },
  {
   "cell_type": "code",
   "execution_count": 5,
   "metadata": {},
   "outputs": [],
   "source": [
    "sex = reference_dataset[\"sex\"]"
   ]
  },
  {
   "cell_type": "code",
   "execution_count": 6,
   "metadata": {},
   "outputs": [
    {
     "data": {
      "text/html": [
       "<div>\n",
       "<style scoped>\n",
       "    .dataframe tbody tr th:only-of-type {\n",
       "        vertical-align: middle;\n",
       "    }\n",
       "\n",
       "    .dataframe tbody tr th {\n",
       "        vertical-align: top;\n",
       "    }\n",
       "\n",
       "    .dataframe thead th {\n",
       "        text-align: right;\n",
       "    }\n",
       "</style>\n",
       "<table border=\"1\" class=\"dataframe\">\n",
       "  <thead>\n",
       "    <tr style=\"text-align: right;\">\n",
       "      <th></th>\n",
       "      <th>name</th>\n",
       "    </tr>\n",
       "    <tr>\n",
       "      <th>code</th>\n",
       "      <th></th>\n",
       "    </tr>\n",
       "  </thead>\n",
       "  <tbody>\n",
       "    <tr>\n",
       "      <th>female</th>\n",
       "      <td>Female</td>\n",
       "    </tr>\n",
       "    <tr>\n",
       "      <th>male</th>\n",
       "      <td>Male</td>\n",
       "    </tr>\n",
       "    <tr>\n",
       "      <th>both</th>\n",
       "      <td>Both sexes</td>\n",
       "    </tr>\n",
       "  </tbody>\n",
       "</table>\n",
       "</div>"
      ],
      "text/plain": [
       "              name\n",
       "code              \n",
       "female      Female\n",
       "male          Male\n",
       "both    Both sexes"
      ]
     },
     "execution_count": 6,
     "metadata": {},
     "output_type": "execute_result"
    }
   ],
   "source": [
    "sex"
   ]
  },
  {
   "cell_type": "code",
   "execution_count": 7,
   "metadata": {},
   "outputs": [],
   "source": [
    "countries = reference_dataset[\"countries_regions\"]"
   ]
  },
  {
   "cell_type": "code",
   "execution_count": 8,
   "metadata": {},
   "outputs": [
    {
     "data": {
      "text/html": [
       "<div>\n",
       "<style scoped>\n",
       "    .dataframe tbody tr th:only-of-type {\n",
       "        vertical-align: middle;\n",
       "    }\n",
       "\n",
       "    .dataframe tbody tr th {\n",
       "        vertical-align: top;\n",
       "    }\n",
       "\n",
       "    .dataframe thead th {\n",
       "        text-align: right;\n",
       "    }\n",
       "</style>\n",
       "<table border=\"1\" class=\"dataframe\">\n",
       "  <thead>\n",
       "    <tr style=\"text-align: right;\">\n",
       "      <th></th>\n",
       "      <th>name</th>\n",
       "      <th>iso_alpha2</th>\n",
       "      <th>iso_alpha3</th>\n",
       "      <th>imf_code</th>\n",
       "      <th>cow_letter</th>\n",
       "      <th>cow_code</th>\n",
       "      <th>unctad_code</th>\n",
       "      <th>marc_code</th>\n",
       "      <th>ncd_code</th>\n",
       "      <th>kansas_code</th>\n",
       "      <th>penn_code</th>\n",
       "      <th>wikidata_uri</th>\n",
       "      <th>wikidata_label</th>\n",
       "      <th>legacy_entity_id</th>\n",
       "      <th>legacy_country_id</th>\n",
       "      <th>members</th>\n",
       "    </tr>\n",
       "    <tr>\n",
       "      <th>code</th>\n",
       "      <th></th>\n",
       "      <th></th>\n",
       "      <th></th>\n",
       "      <th></th>\n",
       "      <th></th>\n",
       "      <th></th>\n",
       "      <th></th>\n",
       "      <th></th>\n",
       "      <th></th>\n",
       "      <th></th>\n",
       "      <th></th>\n",
       "      <th></th>\n",
       "      <th></th>\n",
       "      <th></th>\n",
       "      <th></th>\n",
       "      <th></th>\n",
       "    </tr>\n",
       "  </thead>\n",
       "  <tbody>\n",
       "    <tr>\n",
       "      <th>AFG</th>\n",
       "      <td>Afghanistan</td>\n",
       "      <td>AF</td>\n",
       "      <td>AFG</td>\n",
       "      <td>512.0</td>\n",
       "      <td>AFG</td>\n",
       "      <td>700.0</td>\n",
       "      <td>AFG</td>\n",
       "      <td>AF</td>\n",
       "      <td>AFGN</td>\n",
       "      <td>AFG</td>\n",
       "      <td>AFG</td>\n",
       "      <td>http://www.wikidata.org/entity/Q889</td>\n",
       "      <td>Afghanistan</td>\n",
       "      <td>15.0</td>\n",
       "      <td>562.0</td>\n",
       "      <td>NaN</td>\n",
       "    </tr>\n",
       "    <tr>\n",
       "      <th>ALA</th>\n",
       "      <td>Aland Islands</td>\n",
       "      <td>AX</td>\n",
       "      <td>ALA</td>\n",
       "      <td>NaN</td>\n",
       "      <td>NaN</td>\n",
       "      <td>NaN</td>\n",
       "      <td>NaN</td>\n",
       "      <td>NaN</td>\n",
       "      <td>NaN</td>\n",
       "      <td>NaN</td>\n",
       "      <td>NaN</td>\n",
       "      <td>http://www.wikidata.org/entity/Q5689</td>\n",
       "      <td>Åland</td>\n",
       "      <td>296.0</td>\n",
       "      <td>791.0</td>\n",
       "      <td>NaN</td>\n",
       "    </tr>\n",
       "    <tr>\n",
       "      <th>ALB</th>\n",
       "      <td>Albania</td>\n",
       "      <td>AL</td>\n",
       "      <td>ALB</td>\n",
       "      <td>914.0</td>\n",
       "      <td>ALB</td>\n",
       "      <td>339.0</td>\n",
       "      <td>ALB</td>\n",
       "      <td>AA</td>\n",
       "      <td>ALBN</td>\n",
       "      <td>ALB</td>\n",
       "      <td>ALB</td>\n",
       "      <td>http://www.wikidata.org/entity/Q222</td>\n",
       "      <td>Albania</td>\n",
       "      <td>16.0</td>\n",
       "      <td>565.0</td>\n",
       "      <td>NaN</td>\n",
       "    </tr>\n",
       "    <tr>\n",
       "      <th>DZA</th>\n",
       "      <td>Algeria</td>\n",
       "      <td>DZ</td>\n",
       "      <td>DZA</td>\n",
       "      <td>612.0</td>\n",
       "      <td>ALG</td>\n",
       "      <td>615.0</td>\n",
       "      <td>ALG</td>\n",
       "      <td>AE</td>\n",
       "      <td>ALGR</td>\n",
       "      <td>DZA</td>\n",
       "      <td>DZA</td>\n",
       "      <td>http://www.wikidata.org/entity/Q262</td>\n",
       "      <td>Algeria</td>\n",
       "      <td>17.0</td>\n",
       "      <td>619.0</td>\n",
       "      <td>NaN</td>\n",
       "    </tr>\n",
       "    <tr>\n",
       "      <th>ASM</th>\n",
       "      <td>American Samoa</td>\n",
       "      <td>AS</td>\n",
       "      <td>ASM</td>\n",
       "      <td>859.0</td>\n",
       "      <td>NaN</td>\n",
       "      <td>NaN</td>\n",
       "      <td>NaN</td>\n",
       "      <td>AS</td>\n",
       "      <td>NaN</td>\n",
       "      <td>ASM</td>\n",
       "      <td>ASM</td>\n",
       "      <td>http://www.wikidata.org/entity/Q16641</td>\n",
       "      <td>American Samoa</td>\n",
       "      <td>246.0</td>\n",
       "      <td>571.0</td>\n",
       "      <td>NaN</td>\n",
       "    </tr>\n",
       "  </tbody>\n",
       "</table>\n",
       "</div>"
      ],
      "text/plain": [
       "                name iso_alpha2 iso_alpha3  imf_code cow_letter  cow_code  \\\n",
       "code                                                                        \n",
       "AFG      Afghanistan         AF        AFG     512.0        AFG     700.0   \n",
       "ALA    Aland Islands         AX        ALA       NaN        NaN       NaN   \n",
       "ALB          Albania         AL        ALB     914.0        ALB     339.0   \n",
       "DZA          Algeria         DZ        DZA     612.0        ALG     615.0   \n",
       "ASM   American Samoa         AS        ASM     859.0        NaN       NaN   \n",
       "\n",
       "     unctad_code marc_code ncd_code kansas_code penn_code  \\\n",
       "code                                                        \n",
       "AFG          AFG        AF     AFGN         AFG       AFG   \n",
       "ALA          NaN       NaN      NaN         NaN       NaN   \n",
       "ALB          ALB        AA     ALBN         ALB       ALB   \n",
       "DZA          ALG        AE     ALGR         DZA       DZA   \n",
       "ASM          NaN        AS      NaN         ASM       ASM   \n",
       "\n",
       "                               wikidata_uri  wikidata_label  legacy_entity_id  \\\n",
       "code                                                                            \n",
       "AFG     http://www.wikidata.org/entity/Q889     Afghanistan              15.0   \n",
       "ALA    http://www.wikidata.org/entity/Q5689           Åland             296.0   \n",
       "ALB     http://www.wikidata.org/entity/Q222         Albania              16.0   \n",
       "DZA     http://www.wikidata.org/entity/Q262         Algeria              17.0   \n",
       "ASM   http://www.wikidata.org/entity/Q16641  American Samoa             246.0   \n",
       "\n",
       "      legacy_country_id members  \n",
       "code                             \n",
       "AFG               562.0     NaN  \n",
       "ALA               791.0     NaN  \n",
       "ALB               565.0     NaN  \n",
       "DZA               619.0     NaN  \n",
       "ASM               571.0     NaN  "
      ]
     },
     "execution_count": 8,
     "metadata": {},
     "output_type": "execute_result"
    }
   ],
   "source": [
    "countries.head()"
   ]
  },
  {
   "cell_type": "code",
   "execution_count": 9,
   "metadata": {},
   "outputs": [],
   "source": [
    "ghe_meadow = catalog.Dataset((base_path / \"data/meadow/who/2021-07-01/ghe\").as_posix())"
   ]
  },
  {
   "cell_type": "code",
   "execution_count": 10,
   "metadata": {},
   "outputs": [],
   "source": [
    "ghe_estimates = ghe_meadow[\"estimates\"]"
   ]
  },
  {
   "cell_type": "code",
   "execution_count": 11,
   "metadata": {},
   "outputs": [
    {
     "data": {
      "text/plain": [
       "(7191900, 9)"
      ]
     },
     "execution_count": 11,
     "metadata": {},
     "output_type": "execute_result"
    }
   ],
   "source": [
    "ghe_estimates.shape"
   ]
  },
  {
   "cell_type": "code",
   "execution_count": 12,
   "metadata": {},
   "outputs": [
    {
     "data": {
      "text/html": [
       "<div>\n",
       "<style scoped>\n",
       "    .dataframe tbody tr th:only-of-type {\n",
       "        vertical-align: middle;\n",
       "    }\n",
       "\n",
       "    .dataframe tbody tr th {\n",
       "        vertical-align: top;\n",
       "    }\n",
       "\n",
       "    .dataframe thead th {\n",
       "        text-align: right;\n",
       "    }\n",
       "</style>\n",
       "<table border=\"1\" class=\"dataframe\">\n",
       "  <thead>\n",
       "    <tr style=\"text-align: right;\">\n",
       "      <th></th>\n",
       "      <th></th>\n",
       "      <th></th>\n",
       "      <th></th>\n",
       "      <th></th>\n",
       "      <th>population</th>\n",
       "      <th>deaths</th>\n",
       "      <th>deaths_rate</th>\n",
       "      <th>deaths_100k</th>\n",
       "      <th>daly</th>\n",
       "      <th>daly_rate</th>\n",
       "      <th>daly_100k</th>\n",
       "      <th>causegroup</th>\n",
       "      <th>level</th>\n",
       "    </tr>\n",
       "    <tr>\n",
       "      <th>country_code</th>\n",
       "      <th>year</th>\n",
       "      <th>ghe_cause_title</th>\n",
       "      <th>sex_code</th>\n",
       "      <th>agegroup_code</th>\n",
       "      <th></th>\n",
       "      <th></th>\n",
       "      <th></th>\n",
       "      <th></th>\n",
       "      <th></th>\n",
       "      <th></th>\n",
       "      <th></th>\n",
       "      <th></th>\n",
       "      <th></th>\n",
       "    </tr>\n",
       "  </thead>\n",
       "  <tbody>\n",
       "    <tr>\n",
       "      <th rowspan=\"5\" valign=\"top\">GRD</th>\n",
       "      <th rowspan=\"5\" valign=\"top\">2019</th>\n",
       "      <th>Alcohol use disorders</th>\n",
       "      <th>BTSX</th>\n",
       "      <th>YEARS45-49</th>\n",
       "      <td>6285.0</td>\n",
       "      <td>0.5</td>\n",
       "      <td>8.200000e-05</td>\n",
       "      <td>8.2</td>\n",
       "      <td>42.1</td>\n",
       "      <td>6.695200e-03</td>\n",
       "      <td>669.5</td>\n",
       "      <td>2</td>\n",
       "      <td>3</td>\n",
       "    </tr>\n",
       "    <tr>\n",
       "      <th>Syphilis</th>\n",
       "      <th>MLE</th>\n",
       "      <th>YEARS1-4</th>\n",
       "      <td>3729.0</td>\n",
       "      <td>0.0</td>\n",
       "      <td>1.000000e-08</td>\n",
       "      <td>0.0</td>\n",
       "      <td>0.0</td>\n",
       "      <td>5.900000e-07</td>\n",
       "      <td>0.1</td>\n",
       "      <td>1</td>\n",
       "      <td>4</td>\n",
       "    </tr>\n",
       "    <tr>\n",
       "      <th>Cataracts</th>\n",
       "      <th>FMLE</th>\n",
       "      <th>YEARS15-19</th>\n",
       "      <td>3736.0</td>\n",
       "      <td>0.0</td>\n",
       "      <td>0.000000e+00</td>\n",
       "      <td>0.0</td>\n",
       "      <td>0.0</td>\n",
       "      <td>0.000000e+00</td>\n",
       "      <td>0.0</td>\n",
       "      <td>2</td>\n",
       "      <td>3</td>\n",
       "    </tr>\n",
       "    <tr>\n",
       "      <th>Peptic ulcer disease</th>\n",
       "      <th>BTSX</th>\n",
       "      <th>ALLAges</th>\n",
       "      <td>112002.0</td>\n",
       "      <td>4.7</td>\n",
       "      <td>4.190000e-05</td>\n",
       "      <td>4.2</td>\n",
       "      <td>126.1</td>\n",
       "      <td>1.126140e-03</td>\n",
       "      <td>112.6</td>\n",
       "      <td>2</td>\n",
       "      <td>3</td>\n",
       "    </tr>\n",
       "    <tr>\n",
       "      <th>Drug use disorders</th>\n",
       "      <th>MLE</th>\n",
       "      <th>YEARS85PLUS</th>\n",
       "      <td>366.0</td>\n",
       "      <td>0.0</td>\n",
       "      <td>8.524000e-05</td>\n",
       "      <td>8.5</td>\n",
       "      <td>0.4</td>\n",
       "      <td>1.031580e-03</td>\n",
       "      <td>103.2</td>\n",
       "      <td>2</td>\n",
       "      <td>3</td>\n",
       "    </tr>\n",
       "  </tbody>\n",
       "</table>\n",
       "</div>"
      ],
      "text/plain": [
       "                                                                population  \\\n",
       "country_code year ghe_cause_title       sex_code agegroup_code               \n",
       "GRD          2019 Alcohol use disorders BTSX     YEARS45-49         6285.0   \n",
       "                  Syphilis              MLE      YEARS1-4           3729.0   \n",
       "                  Cataracts             FMLE     YEARS15-19         3736.0   \n",
       "                  Peptic ulcer disease  BTSX     ALLAges          112002.0   \n",
       "                  Drug use disorders    MLE      YEARS85PLUS         366.0   \n",
       "\n",
       "                                                                deaths  \\\n",
       "country_code year ghe_cause_title       sex_code agegroup_code           \n",
       "GRD          2019 Alcohol use disorders BTSX     YEARS45-49        0.5   \n",
       "                  Syphilis              MLE      YEARS1-4          0.0   \n",
       "                  Cataracts             FMLE     YEARS15-19        0.0   \n",
       "                  Peptic ulcer disease  BTSX     ALLAges           4.7   \n",
       "                  Drug use disorders    MLE      YEARS85PLUS       0.0   \n",
       "\n",
       "                                                                 deaths_rate  \\\n",
       "country_code year ghe_cause_title       sex_code agegroup_code                 \n",
       "GRD          2019 Alcohol use disorders BTSX     YEARS45-49     8.200000e-05   \n",
       "                  Syphilis              MLE      YEARS1-4       1.000000e-08   \n",
       "                  Cataracts             FMLE     YEARS15-19     0.000000e+00   \n",
       "                  Peptic ulcer disease  BTSX     ALLAges        4.190000e-05   \n",
       "                  Drug use disorders    MLE      YEARS85PLUS    8.524000e-05   \n",
       "\n",
       "                                                                deaths_100k  \\\n",
       "country_code year ghe_cause_title       sex_code agegroup_code                \n",
       "GRD          2019 Alcohol use disorders BTSX     YEARS45-49             8.2   \n",
       "                  Syphilis              MLE      YEARS1-4               0.0   \n",
       "                  Cataracts             FMLE     YEARS15-19             0.0   \n",
       "                  Peptic ulcer disease  BTSX     ALLAges                4.2   \n",
       "                  Drug use disorders    MLE      YEARS85PLUS            8.5   \n",
       "\n",
       "                                                                 daly  \\\n",
       "country_code year ghe_cause_title       sex_code agegroup_code          \n",
       "GRD          2019 Alcohol use disorders BTSX     YEARS45-49      42.1   \n",
       "                  Syphilis              MLE      YEARS1-4         0.0   \n",
       "                  Cataracts             FMLE     YEARS15-19       0.0   \n",
       "                  Peptic ulcer disease  BTSX     ALLAges        126.1   \n",
       "                  Drug use disorders    MLE      YEARS85PLUS      0.4   \n",
       "\n",
       "                                                                   daly_rate  \\\n",
       "country_code year ghe_cause_title       sex_code agegroup_code                 \n",
       "GRD          2019 Alcohol use disorders BTSX     YEARS45-49     6.695200e-03   \n",
       "                  Syphilis              MLE      YEARS1-4       5.900000e-07   \n",
       "                  Cataracts             FMLE     YEARS15-19     0.000000e+00   \n",
       "                  Peptic ulcer disease  BTSX     ALLAges        1.126140e-03   \n",
       "                  Drug use disorders    MLE      YEARS85PLUS    1.031580e-03   \n",
       "\n",
       "                                                                daly_100k  \\\n",
       "country_code year ghe_cause_title       sex_code agegroup_code              \n",
       "GRD          2019 Alcohol use disorders BTSX     YEARS45-49         669.5   \n",
       "                  Syphilis              MLE      YEARS1-4             0.1   \n",
       "                  Cataracts             FMLE     YEARS15-19           0.0   \n",
       "                  Peptic ulcer disease  BTSX     ALLAges            112.6   \n",
       "                  Drug use disorders    MLE      YEARS85PLUS        103.2   \n",
       "\n",
       "                                                                causegroup  \\\n",
       "country_code year ghe_cause_title       sex_code agegroup_code               \n",
       "GRD          2019 Alcohol use disorders BTSX     YEARS45-49              2   \n",
       "                  Syphilis              MLE      YEARS1-4                1   \n",
       "                  Cataracts             FMLE     YEARS15-19              2   \n",
       "                  Peptic ulcer disease  BTSX     ALLAges                 2   \n",
       "                  Drug use disorders    MLE      YEARS85PLUS             2   \n",
       "\n",
       "                                                                level  \n",
       "country_code year ghe_cause_title       sex_code agegroup_code         \n",
       "GRD          2019 Alcohol use disorders BTSX     YEARS45-49         3  \n",
       "                  Syphilis              MLE      YEARS1-4           4  \n",
       "                  Cataracts             FMLE     YEARS15-19         3  \n",
       "                  Peptic ulcer disease  BTSX     ALLAges            3  \n",
       "                  Drug use disorders    MLE      YEARS85PLUS        3  "
      ]
     },
     "execution_count": 12,
     "metadata": {},
     "output_type": "execute_result"
    }
   ],
   "source": [
    "ghe_estimates.head()"
   ]
  },
  {
   "cell_type": "code",
   "execution_count": 13,
   "metadata": {},
   "outputs": [],
   "source": [
    "country_codes = set(ghe_estimates.index.unique(\"country_code\"))"
   ]
  },
  {
   "cell_type": "code",
   "execution_count": 14,
   "metadata": {},
   "outputs": [
    {
     "data": {
      "text/plain": [
       "183"
      ]
     },
     "execution_count": 14,
     "metadata": {},
     "output_type": "execute_result"
    }
   ],
   "source": [
    "len(country_codes)"
   ]
  },
  {
   "cell_type": "code",
   "execution_count": 15,
   "metadata": {},
   "outputs": [],
   "source": [
    "owid_country_codes = set(countries.index)"
   ]
  },
  {
   "cell_type": "code",
   "execution_count": 16,
   "metadata": {},
   "outputs": [
    {
     "data": {
      "text/plain": [
       "296"
      ]
     },
     "execution_count": 16,
     "metadata": {},
     "output_type": "execute_result"
    }
   ],
   "source": [
    "len(owid_country_codes)"
   ]
  },
  {
   "cell_type": "code",
   "execution_count": 17,
   "metadata": {},
   "outputs": [
    {
     "data": {
      "text/plain": [
       "set()"
      ]
     },
     "execution_count": 17,
     "metadata": {},
     "output_type": "execute_result"
    }
   ],
   "source": [
    "country_codes - owid_country_codes"
   ]
  },
  {
   "cell_type": "markdown",
   "metadata": {},
   "source": [
    "💡 The set of (country codes in GHE) minus (owid table country codes) is empty, so we don't need to do any further harmonization here."
   ]
  },
  {
   "cell_type": "code",
   "execution_count": 18,
   "metadata": {},
   "outputs": [
    {
     "data": {
      "text/plain": [
       "CategoricalIndex(['BTSX', 'MLE', 'FMLE'], categories=['BTSX', 'FMLE', 'MLE'], ordered=False, dtype='category', name='sex_code')"
      ]
     },
     "execution_count": 18,
     "metadata": {},
     "output_type": "execute_result"
    }
   ],
   "source": [
    "ghe_estimates.index.unique(\"sex_code\")"
   ]
  },
  {
   "cell_type": "code",
   "execution_count": 19,
   "metadata": {},
   "outputs": [],
   "source": [
    "with open(\n",
    "    base_path\n",
    "    / \"etl\"\n",
    "    / \"steps\"\n",
    "    / \"data\"\n",
    "    / \"garden\"\n",
    "    / \"who\"\n",
    "    / \"2021-07-01\"\n",
    "    / \"ghe.mapping.sex.json\"\n",
    ") as f:\n",
    "    ghe_to_owid_sex_codes = json.load(f)"
   ]
  },
  {
   "cell_type": "code",
   "execution_count": 20,
   "metadata": {},
   "outputs": [
    {
     "data": {
      "text/plain": [
       "{'BTSX': 'both', 'MLE': 'male', 'FMLE': 'female'}"
      ]
     },
     "execution_count": 20,
     "metadata": {},
     "output_type": "execute_result"
    }
   ],
   "source": [
    "ghe_to_owid_sex_codes"
   ]
  },
  {
   "cell_type": "code",
   "execution_count": 21,
   "metadata": {},
   "outputs": [],
   "source": [
    "index_names = ghe_estimates.index.names"
   ]
  },
  {
   "cell_type": "code",
   "execution_count": 22,
   "metadata": {},
   "outputs": [],
   "source": [
    "ghe_estimates.reset_index(inplace=True)"
   ]
  },
  {
   "cell_type": "code",
   "execution_count": 23,
   "metadata": {},
   "outputs": [],
   "source": [
    "ghe_estimates[\"sex_code\"] = ghe_estimates[\"sex_code\"].cat.rename_categories(\n",
    "    ghe_to_owid_sex_codes\n",
    ")"
   ]
  },
  {
   "cell_type": "code",
   "execution_count": 24,
   "metadata": {},
   "outputs": [],
   "source": [
    "ghe_estimates.set_index(index_names, inplace=True)"
   ]
  },
  {
   "cell_type": "code",
   "execution_count": 25,
   "metadata": {},
   "outputs": [
    {
     "data": {
      "text/html": [
       "<div>\n",
       "<style scoped>\n",
       "    .dataframe tbody tr th:only-of-type {\n",
       "        vertical-align: middle;\n",
       "    }\n",
       "\n",
       "    .dataframe tbody tr th {\n",
       "        vertical-align: top;\n",
       "    }\n",
       "\n",
       "    .dataframe thead th {\n",
       "        text-align: right;\n",
       "    }\n",
       "</style>\n",
       "<table border=\"1\" class=\"dataframe\">\n",
       "  <thead>\n",
       "    <tr style=\"text-align: right;\">\n",
       "      <th></th>\n",
       "      <th></th>\n",
       "      <th></th>\n",
       "      <th></th>\n",
       "      <th></th>\n",
       "      <th>population</th>\n",
       "      <th>deaths</th>\n",
       "      <th>deaths_rate</th>\n",
       "      <th>deaths_100k</th>\n",
       "      <th>daly</th>\n",
       "      <th>daly_rate</th>\n",
       "      <th>daly_100k</th>\n",
       "      <th>causegroup</th>\n",
       "      <th>level</th>\n",
       "    </tr>\n",
       "    <tr>\n",
       "      <th>country_code</th>\n",
       "      <th>year</th>\n",
       "      <th>ghe_cause_title</th>\n",
       "      <th>sex_code</th>\n",
       "      <th>agegroup_code</th>\n",
       "      <th></th>\n",
       "      <th></th>\n",
       "      <th></th>\n",
       "      <th></th>\n",
       "      <th></th>\n",
       "      <th></th>\n",
       "      <th></th>\n",
       "      <th></th>\n",
       "      <th></th>\n",
       "    </tr>\n",
       "  </thead>\n",
       "  <tbody>\n",
       "    <tr>\n",
       "      <th rowspan=\"5\" valign=\"top\">GRD</th>\n",
       "      <th rowspan=\"5\" valign=\"top\">2019</th>\n",
       "      <th>Alcohol use disorders</th>\n",
       "      <th>both</th>\n",
       "      <th>YEARS45-49</th>\n",
       "      <td>6285.0</td>\n",
       "      <td>0.5</td>\n",
       "      <td>8.200000e-05</td>\n",
       "      <td>8.2</td>\n",
       "      <td>42.1</td>\n",
       "      <td>6.695200e-03</td>\n",
       "      <td>669.5</td>\n",
       "      <td>2</td>\n",
       "      <td>3</td>\n",
       "    </tr>\n",
       "    <tr>\n",
       "      <th>Syphilis</th>\n",
       "      <th>male</th>\n",
       "      <th>YEARS1-4</th>\n",
       "      <td>3729.0</td>\n",
       "      <td>0.0</td>\n",
       "      <td>1.000000e-08</td>\n",
       "      <td>0.0</td>\n",
       "      <td>0.0</td>\n",
       "      <td>5.900000e-07</td>\n",
       "      <td>0.1</td>\n",
       "      <td>1</td>\n",
       "      <td>4</td>\n",
       "    </tr>\n",
       "    <tr>\n",
       "      <th>Cataracts</th>\n",
       "      <th>female</th>\n",
       "      <th>YEARS15-19</th>\n",
       "      <td>3736.0</td>\n",
       "      <td>0.0</td>\n",
       "      <td>0.000000e+00</td>\n",
       "      <td>0.0</td>\n",
       "      <td>0.0</td>\n",
       "      <td>0.000000e+00</td>\n",
       "      <td>0.0</td>\n",
       "      <td>2</td>\n",
       "      <td>3</td>\n",
       "    </tr>\n",
       "    <tr>\n",
       "      <th>Peptic ulcer disease</th>\n",
       "      <th>both</th>\n",
       "      <th>ALLAges</th>\n",
       "      <td>112002.0</td>\n",
       "      <td>4.7</td>\n",
       "      <td>4.190000e-05</td>\n",
       "      <td>4.2</td>\n",
       "      <td>126.1</td>\n",
       "      <td>1.126140e-03</td>\n",
       "      <td>112.6</td>\n",
       "      <td>2</td>\n",
       "      <td>3</td>\n",
       "    </tr>\n",
       "    <tr>\n",
       "      <th>Drug use disorders</th>\n",
       "      <th>male</th>\n",
       "      <th>YEARS85PLUS</th>\n",
       "      <td>366.0</td>\n",
       "      <td>0.0</td>\n",
       "      <td>8.524000e-05</td>\n",
       "      <td>8.5</td>\n",
       "      <td>0.4</td>\n",
       "      <td>1.031580e-03</td>\n",
       "      <td>103.2</td>\n",
       "      <td>2</td>\n",
       "      <td>3</td>\n",
       "    </tr>\n",
       "  </tbody>\n",
       "</table>\n",
       "</div>"
      ],
      "text/plain": [
       "                                                                population  \\\n",
       "country_code year ghe_cause_title       sex_code agegroup_code               \n",
       "GRD          2019 Alcohol use disorders both     YEARS45-49         6285.0   \n",
       "                  Syphilis              male     YEARS1-4           3729.0   \n",
       "                  Cataracts             female   YEARS15-19         3736.0   \n",
       "                  Peptic ulcer disease  both     ALLAges          112002.0   \n",
       "                  Drug use disorders    male     YEARS85PLUS         366.0   \n",
       "\n",
       "                                                                deaths  \\\n",
       "country_code year ghe_cause_title       sex_code agegroup_code           \n",
       "GRD          2019 Alcohol use disorders both     YEARS45-49        0.5   \n",
       "                  Syphilis              male     YEARS1-4          0.0   \n",
       "                  Cataracts             female   YEARS15-19        0.0   \n",
       "                  Peptic ulcer disease  both     ALLAges           4.7   \n",
       "                  Drug use disorders    male     YEARS85PLUS       0.0   \n",
       "\n",
       "                                                                 deaths_rate  \\\n",
       "country_code year ghe_cause_title       sex_code agegroup_code                 \n",
       "GRD          2019 Alcohol use disorders both     YEARS45-49     8.200000e-05   \n",
       "                  Syphilis              male     YEARS1-4       1.000000e-08   \n",
       "                  Cataracts             female   YEARS15-19     0.000000e+00   \n",
       "                  Peptic ulcer disease  both     ALLAges        4.190000e-05   \n",
       "                  Drug use disorders    male     YEARS85PLUS    8.524000e-05   \n",
       "\n",
       "                                                                deaths_100k  \\\n",
       "country_code year ghe_cause_title       sex_code agegroup_code                \n",
       "GRD          2019 Alcohol use disorders both     YEARS45-49             8.2   \n",
       "                  Syphilis              male     YEARS1-4               0.0   \n",
       "                  Cataracts             female   YEARS15-19             0.0   \n",
       "                  Peptic ulcer disease  both     ALLAges                4.2   \n",
       "                  Drug use disorders    male     YEARS85PLUS            8.5   \n",
       "\n",
       "                                                                 daly  \\\n",
       "country_code year ghe_cause_title       sex_code agegroup_code          \n",
       "GRD          2019 Alcohol use disorders both     YEARS45-49      42.1   \n",
       "                  Syphilis              male     YEARS1-4         0.0   \n",
       "                  Cataracts             female   YEARS15-19       0.0   \n",
       "                  Peptic ulcer disease  both     ALLAges        126.1   \n",
       "                  Drug use disorders    male     YEARS85PLUS      0.4   \n",
       "\n",
       "                                                                   daly_rate  \\\n",
       "country_code year ghe_cause_title       sex_code agegroup_code                 \n",
       "GRD          2019 Alcohol use disorders both     YEARS45-49     6.695200e-03   \n",
       "                  Syphilis              male     YEARS1-4       5.900000e-07   \n",
       "                  Cataracts             female   YEARS15-19     0.000000e+00   \n",
       "                  Peptic ulcer disease  both     ALLAges        1.126140e-03   \n",
       "                  Drug use disorders    male     YEARS85PLUS    1.031580e-03   \n",
       "\n",
       "                                                                daly_100k  \\\n",
       "country_code year ghe_cause_title       sex_code agegroup_code              \n",
       "GRD          2019 Alcohol use disorders both     YEARS45-49         669.5   \n",
       "                  Syphilis              male     YEARS1-4             0.1   \n",
       "                  Cataracts             female   YEARS15-19           0.0   \n",
       "                  Peptic ulcer disease  both     ALLAges            112.6   \n",
       "                  Drug use disorders    male     YEARS85PLUS        103.2   \n",
       "\n",
       "                                                                causegroup  \\\n",
       "country_code year ghe_cause_title       sex_code agegroup_code               \n",
       "GRD          2019 Alcohol use disorders both     YEARS45-49              2   \n",
       "                  Syphilis              male     YEARS1-4                1   \n",
       "                  Cataracts             female   YEARS15-19              2   \n",
       "                  Peptic ulcer disease  both     ALLAges                 2   \n",
       "                  Drug use disorders    male     YEARS85PLUS             2   \n",
       "\n",
       "                                                                level  \n",
       "country_code year ghe_cause_title       sex_code agegroup_code         \n",
       "GRD          2019 Alcohol use disorders both     YEARS45-49         3  \n",
       "                  Syphilis              male     YEARS1-4           4  \n",
       "                  Cataracts             female   YEARS15-19         3  \n",
       "                  Peptic ulcer disease  both     ALLAges            3  \n",
       "                  Drug use disorders    male     YEARS85PLUS        3  "
      ]
     },
     "execution_count": 25,
     "metadata": {},
     "output_type": "execute_result"
    }
   ],
   "source": [
    "ghe_estimates.head()"
   ]
  },
  {
   "cell_type": "code",
   "execution_count": 26,
   "metadata": {},
   "outputs": [],
   "source": [
    "ghe_garden = catalog.Dataset.create_empty(dest_dir)"
   ]
  },
  {
   "cell_type": "code",
   "execution_count": 27,
   "metadata": {},
   "outputs": [],
   "source": [
    "ghe_garden.metadata = ghe_meadow.metadata\n",
    "ghe_garden.save()"
   ]
  },
  {
   "cell_type": "code",
   "execution_count": 28,
   "metadata": {},
   "outputs": [],
   "source": [
    "ghe_garden.add(ghe_estimates)"
   ]
  },
  {
   "cell_type": "code",
   "execution_count": 29,
   "metadata": {},
   "outputs": [],
   "source": [
    "ghe_garden.save()"
   ]
  }
 ],
 "metadata": {
  "interpreter": {
   "hash": "bfee9b694fe04c946c13f91f59877f323f209df7eaba52b3079ace55470be701"
  },
  "kernelspec": {
   "display_name": "Python 3 (ipykernel)",
   "language": "python",
   "name": "python3"
  },
  "language_info": {
   "codemirror_mode": {
    "name": "ipython",
    "version": 3
   },
   "file_extension": ".py",
   "mimetype": "text/x-python",
   "name": "python",
   "nbconvert_exporter": "python",
   "pygments_lexer": "ipython3",
   "version": "3.9.6"
  }
 },
 "nbformat": 4,
 "nbformat_minor": 4
}
